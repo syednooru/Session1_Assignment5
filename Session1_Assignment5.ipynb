{
 "cells": [
  {
   "cell_type": "markdown",
   "metadata": {},
   "source": [
    "## Write a program which accepts a sequence of comma-separated numbers from console\n",
    "## and generate a list.\n"
   ]
  },
  {
   "cell_type": "code",
   "execution_count": 6,
   "metadata": {},
   "outputs": [
    {
     "name": "stdout",
     "output_type": "stream",
     "text": [
      "Input some comma seprated numbers : 76,454,565,67,67\n",
      "l : ['76', '454', '565', '67', '67']\n"
     ]
    }
   ],
   "source": [
    "\n",
    "\n",
    "values = input(\"Input some comma seprated numbers : \")  #using input statement to print out user specified values\n",
    "l = values.split(\",\")                                  #splitting values using comma seperated values\n",
    "print('l :', l)                                         #printing the list for inout values"
   ]
  },
  {
   "cell_type": "code",
   "execution_count": null,
   "metadata": {},
   "outputs": [],
   "source": []
  }
 ],
 "metadata": {
  "kernelspec": {
   "display_name": "Python 3",
   "language": "python",
   "name": "python3"
  },
  "language_info": {
   "codemirror_mode": {
    "name": "ipython",
    "version": 3
   },
   "file_extension": ".py",
   "mimetype": "text/x-python",
   "name": "python",
   "nbconvert_exporter": "python",
   "pygments_lexer": "ipython3",
   "version": "3.6.5"
  }
 },
 "nbformat": 4,
 "nbformat_minor": 2
}
